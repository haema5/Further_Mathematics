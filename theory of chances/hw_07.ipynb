{
 "cells": [
  {
   "cell_type": "code",
   "execution_count": 1,
   "metadata": {},
   "outputs": [],
   "source": [
    "import numpy as np\n",
    "import matplotlib.pyplot as plt\n",
    "\n",
    "%matplotlib inline"
   ]
  },
  {
   "cell_type": "markdown",
   "metadata": {},
   "source": [
    "### 1. Даны значения величины заработной платы заемщиков банка (zp) и значения их поведенческого кредитного скоринга (ks): zp = [35, 45, 190, 200, 40, 70, 54, 150, 120, 110], ks = [401, 574, 874, 919, 459, 739, 653, 902, 746, 832]. Используя математические операции, посчитать коэффициенты линейной регрессии, приняв за X заработную плату (то есть, zp - признак), а за y - значения скорингового балла (то есть, ks - целевая переменная). Произвести расчет как с использованием intercept, так и без."
   ]
  },
  {
   "cell_type": "code",
   "execution_count": 2,
   "metadata": {},
   "outputs": [],
   "source": [
    "zp = np.array([35, 45, 190, 200, 40, 70, 54, 150, 120, 110])\n",
    "ks = np.array([401, 574, 874, 919, 459, 739, 653, 902, 746, 832])"
   ]
  },
  {
   "cell_type": "code",
   "execution_count": 3,
   "metadata": {},
   "outputs": [],
   "source": [
    "x = zp\n",
    "y = ks"
   ]
  },
  {
   "cell_type": "markdown",
   "metadata": {},
   "source": [
    "#### C использованием intercept:"
   ]
  },
  {
   "cell_type": "markdown",
   "metadata": {},
   "source": [
    "$$b = \\frac{\\overline{yx} - \\overline{y} \\cdot {\\overline{x}}}{\\overline{x^2} - (\\overline{x})^2};$$\n",
    "\n",
    "$$a = \\overline{y} - b \\cdot {\\overline{x}}.$$"
   ]
  },
  {
   "cell_type": "code",
   "execution_count": 4,
   "metadata": {},
   "outputs": [
    {
     "data": {
      "text/plain": [
       "2.620538882402765"
      ]
     },
     "execution_count": 4,
     "metadata": {},
     "output_type": "execute_result"
    }
   ],
   "source": [
    "b = (np.mean(x * y) - np.mean(x) * np.mean(y)) / (np.mean(x**2) - np.mean(x)**2)\n",
    "b"
   ]
  },
  {
   "cell_type": "code",
   "execution_count": 5,
   "metadata": {},
   "outputs": [
    {
     "data": {
      "text/plain": [
       "444.1773573243596"
      ]
     },
     "execution_count": 5,
     "metadata": {},
     "output_type": "execute_result"
    }
   ],
   "source": [
    "a = np.mean(y) - b * np.mean(x)\n",
    "a"
   ]
  },
  {
   "cell_type": "code",
   "execution_count": 6,
   "metadata": {},
   "outputs": [
    {
     "data": {
      "image/png": "[encoded data removed]",
      "text/plain": [
       "<Figure size 432x288 with 1 Axes>"
      ]
     },
     "metadata": {
      "needs_background": "light"
     },
     "output_type": "display_data"
    }
   ],
   "source": [
    "plt.scatter(x, y)\n",
    "plt.plot(x, a + x * b, 'r')\n",
    "plt.show()"
   ]
  },
  {
   "cell_type": "markdown",
   "metadata": {},
   "source": [
    "#### Без использования intercept:"
   ]
  },
  {
   "cell_type": "code",
   "execution_count": 7,
   "metadata": {},
   "outputs": [
    {
     "data": {
      "text/plain": [
       "array([[ 35,  45, 190, 200,  40,  70,  54, 150, 120, 110]])"
      ]
     },
     "execution_count": 7,
     "metadata": {},
     "output_type": "execute_result"
    }
   ],
   "source": [
    "xr = x.reshape((1, 10))\n",
    "xr"
   ]
  },
  {
   "cell_type": "code",
   "execution_count": 8,
   "metadata": {},
   "outputs": [
    {
     "data": {
      "text/plain": [
       "array([[401, 574, 874, 919, 459, 739, 653, 902, 746, 832]])"
      ]
     },
     "execution_count": 8,
     "metadata": {},
     "output_type": "execute_result"
    }
   ],
   "source": [
    "yr = y.reshape((1, 10))\n",
    "yr"
   ]
  },
  {
   "cell_type": "code",
   "execution_count": 9,
   "metadata": {},
   "outputs": [
    {
     "data": {
      "text/plain": [
       "array([[5.88982042]])"
      ]
     },
     "execution_count": 9,
     "metadata": {},
     "output_type": "execute_result"
    }
   ],
   "source": [
    "b1 = np.linalg.inv(xr @ xr.T) @ xr @ yr.T\n",
    "b1"
   ]
  },
  {
   "cell_type": "code",
   "execution_count": 10,
   "metadata": {},
   "outputs": [
    {
     "data": {
      "image/png": "[encoded data removed]",
      "text/plain": [
       "<Figure size 432x288 with 1 Axes>"
      ]
     },
     "metadata": {
      "needs_background": "light"
     },
     "output_type": "display_data"
    }
   ],
   "source": [
    "plt.scatter(x, y)\n",
    "plt.plot(x, x * b1[0], 'r')\n",
    "plt.show()"
   ]
  },
  {
   "cell_type": "markdown",
   "metadata": {},
   "source": [
    "### 2. Посчитать коэффициент линейной регрессии при заработной плате (zp), используя градиентный спуск (без intercept)."
   ]
  },
  {
   "cell_type": "code",
   "execution_count": 11,
   "metadata": {},
   "outputs": [],
   "source": [
    "def mse_(w1, n=10):\n",
    "    return np.sum((w1 * x - y)**2) / n"
   ]
  },
  {
   "cell_type": "code",
   "execution_count": 53,
   "metadata": {},
   "outputs": [],
   "source": [
    "alpha = 1e-6\n",
    "n = 10\n",
    "w1 = 0.1"
   ]
  },
  {
   "cell_type": "code",
   "execution_count": 54,
   "metadata": {},
   "outputs": [
    {
     "name": "stdout",
     "output_type": "stream",
     "text": [
      "Iteration: 0; w1 = 0.25953; mse = 493237.72125\n",
      "Iteration: 100; w1 = 5.54538; mse = 58151.31823\n",
      "Iteration: 200; w1 = 5.86875; mse = 56522.97550\n",
      "Iteration: 300; w1 = 5.88853; mse = 56516.88131\n",
      "Iteration: 400; w1 = 5.88974; mse = 56516.85850\n",
      "Iteration: 500; w1 = 5.88982; mse = 56516.85842\n",
      "Iteration: 600; w1 = 5.88982; mse = 56516.85842\n",
      "Iteration: 700; w1 = 5.88982; mse = 56516.85842\n",
      "Iteration: 800; w1 = 5.88982; mse = 56516.85842\n",
      "Iteration: 900; w1 = 5.88982; mse = 56516.85842\n"
     ]
    }
   ],
   "source": [
    "for i in range(1000):\n",
    "    w1 -= alpha * (2 / n) * np.sum((w1 * x - y) * x)\n",
    "    if i % 100 == 0:\n",
    "        print(f'Iteration: {i}; w1 = {w1:.5f}; mse = {mse_(w1):.5f}')"
   ]
  },
  {
   "cell_type": "code",
   "execution_count": 14,
   "metadata": {},
   "outputs": [
    {
     "data": {
      "image/png": "[encoded data removed]",
      "text/plain": [
       "<Figure size 432x288 with 1 Axes>"
      ]
     },
     "metadata": {
      "needs_background": "light"
     },
     "output_type": "display_data"
    }
   ],
   "source": [
    "plt.scatter(x, y)\n",
    "plt.plot(x, x * w1, 'r')\n",
    "plt.show()"
   ]
  },
  {
   "cell_type": "markdown",
   "metadata": {},
   "source": [
    "### 3. В каких случаях для вычисления доверительных интервалов и проверки статистических гипотез используется таблица значений функции Лапласа, а в каких - таблица критических точек распределения Стьюдента?"
   ]
  },
  {
   "cell_type": "markdown",
   "metadata": {},
   "source": [
    "Таблица значений функции Лапласа используется при большом количестве наблюдений, а таблица критических точек распределения Стьюдента используется когда количество наблюдений меньше 30."
   ]
  },
  {
   "cell_type": "markdown",
   "metadata": {},
   "source": [
    "### *4. Произвести вычисления как в пункте 2, но с вычислением intercept. Учесть, что изменение коэффициентов должно производиться на каждом шаге одновременно (то есть изменение одного коэффициента не должно влиять на изменение другого во время одной итерации)."
   ]
  },
  {
   "cell_type": "code",
   "execution_count": 34,
   "metadata": {},
   "outputs": [],
   "source": [
    "alpha = 3e-5\n",
    "n = 10\n",
    "w0 = 0.1\n",
    "w1 = 0.1"
   ]
  },
  {
   "cell_type": "code",
   "execution_count": 35,
   "metadata": {},
   "outputs": [
    {
     "name": "stdout",
     "output_type": "stream",
     "text": [
      "Iteration: 0; w0 = 0.14198; w1 = 4.88498; mse = 70427.18913\n",
      "Iteration: 100000; w0 = 347.25591; w1 = 3.33391; mse = 146514.75771\n",
      "Iteration: 200000; w0 = 423.02156; w1 = 2.77625; mse = 190071.41856\n",
      "Iteration: 300000; w0 = 439.55952; w1 = 2.65453; mse = 200718.16809\n",
      "Iteration: 400000; w0 = 443.16939; w1 = 2.62796; mse = 203096.39915\n",
      "Iteration: 500000; w0 = 443.95734; w1 = 2.62216; mse = 203618.10045\n",
      "Iteration: 600000; w0 = 444.12933; w1 = 2.62089; mse = 203732.09949\n",
      "Iteration: 700000; w0 = 444.16687; w1 = 2.62062; mse = 203756.98882\n",
      "Iteration: 800000; w0 = 444.17507; w1 = 2.62056; mse = 203762.42188\n",
      "Iteration: 900000; w0 = 444.17686; w1 = 2.62054; mse = 203763.60782\n",
      "Iteration: 1000000; w0 = 444.17725; w1 = 2.62054; mse = 203763.86668\n"
     ]
    }
   ],
   "source": [
    "for i in range(1000001):\n",
    "    w0 -= alpha * ((2 / n) * np.sum(((w0 + w1 * x) - y) * 1))\n",
    "    w1 -= alpha * ((2 / n) * np.sum(((w0 + w1 * x) - y) * x))\n",
    "    if i % 100000 == 0:\n",
    "        print(f'Iteration: {i}; w0 = {w0:.5f}; w1 = {w1:.5f}; mse = {mse_(w1):.5f}')"
   ]
  },
  {
   "cell_type": "code",
   "execution_count": 36,
   "metadata": {},
   "outputs": [
    {
     "data": {
      "image/png": "[encoded data removed]",
      "text/plain": [
       "<Figure size 432x288 with 1 Axes>"
      ]
     },
     "metadata": {
      "needs_background": "light"
     },
     "output_type": "display_data"
    }
   ],
   "source": [
    "plt.scatter(x, y)\n",
    "plt.plot(x, w0 + x * w1, 'r')\n",
    "plt.show()"
   ]
  }
 ],
 "metadata": {
  "kernelspec": {
   "display_name": "Python 3",
   "language": "python",
   "name": "python3"
  },
  "language_info": {
   "codemirror_mode": {
    "name": "ipython",
    "version": 3
   },
   "file_extension": ".py",
   "mimetype": "text/x-python",
   "name": "python",
   "nbconvert_exporter": "python",
   "pygments_lexer": "ipython3",
   "version": "3.7.1"
  }
 },
 "nbformat": 4,
 "nbformat_minor": 2
}
